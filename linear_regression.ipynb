{
 "cells": [
  {
   "cell_type": "code",
   "execution_count": null,
   "metadata": {},
   "outputs": [],
   "source": [
    "import matplotlib.pyplot as plt\n",
    "import numpy as np\n",
    "x = np.arange(-3.5, 3.5, 0.01)\n",
    "def f(x):\n",
    "    return (x-3)*(x+3)*(x-4)*(x+4)*(x-1)*(x-2)*(x+2)/350 \n",
    "y_true = f(x)\n",
    "n_x = len(x)\n",
    "plt.plot(x, y_true)\n",
    "plt.show()\n"
   ]
  }
 ],
 "metadata": {
  "language_info": {
   "name": "python"
  }
 },
 "nbformat": 4,
 "nbformat_minor": 2
}
