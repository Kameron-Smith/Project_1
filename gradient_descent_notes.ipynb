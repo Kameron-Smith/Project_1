{
 "cells": [
  {
   "cell_type": "code",
   "execution_count": 1,
   "metadata": {},
   "outputs": [],
   "source": [
    "# import numpy numerical library for numerical operations in python \n",
    "import numpy as np\n",
    "\n",
    "# import pyplot for creatic visualisations \n",
    "from matplotlib import pyplot as plt\n",
    "\n",
    "# try using funcanimation to cretae animations by repeatedly calling a function \n",
    "from matplotlib.animation import FuncAnimation"
   ]
  },
  {
   "cell_type": "markdown",
   "metadata": {},
   "source": [
    "## Notes\n",
    "\n",
    "- In this Jupyter notebook, I want to implement a naive gradient descent algorithm. \n",
    "- Note that we will begin with a simple differentiable function f(x), find its slope, then iterate to find the optimal parameters"
   ]
  },
  {
   "cell_type": "code",
   "execution_count": null,
   "metadata": {},
   "outputs": [],
   "source": [
    "# Step 1 \n",
    "\n",
    "# Define the function we want to minimize, its a simple quadratic function, where we know the minimum of the function\n",
    "\n",
    "def function(x):\n",
    "    return (x - 3) ** 2"
   ]
  },
  {
   "cell_type": "code",
   "execution_count": null,
   "metadata": {},
   "outputs": [],
   "source": [
    "# Step 2\n",
    "\n",
    "# Define the gradient of f(x), f'(x), which describes the slope of the function at any point, x\n",
    "\n",
    "def f_prime(x): \n",
    "    return 2 * (x-3)"
   ]
  }
 ],
 "metadata": {
  "kernelspec": {
   "display_name": ".venv",
   "language": "python",
   "name": "python3"
  },
  "language_info": {
   "codemirror_mode": {
    "name": "ipython",
    "version": 3
   },
   "file_extension": ".py",
   "mimetype": "text/x-python",
   "name": "python",
   "nbconvert_exporter": "python",
   "pygments_lexer": "ipython3",
   "version": "3.9.6"
  }
 },
 "nbformat": 4,
 "nbformat_minor": 2
}
